{
 "cells": [
  {
   "cell_type": "markdown",
   "metadata": {},
   "source": [
    "# Challenge\n",
    "\n",
    "Given a 32-bit signed integer, reverse digits of an integer.\n",
    "\n",
    "**Example 1:**\n",
    "\n",
    "Input: 123\n",
    "\n",
    "Output: 321\n",
    "\n",
    "**Example 2:**\n",
    "\n",
    "Input: -123\n",
    "\n",
    "Output: -321\n",
    "\n",
    "**Example 3:**\n",
    "\n",
    "Input: 120\n",
    "\n",
    "Output: 21\n",
    "\n",
    "website: https://leetcode.com/problems/reverse-integer/"
   ]
  },
  {
   "cell_type": "markdown",
   "metadata": {},
   "source": [
    "### First Solution"
   ]
  },
  {
   "cell_type": "code",
   "execution_count": 31,
   "metadata": {},
   "outputs": [
    {
     "name": "stdout",
     "output_type": "stream",
     "text": [
      "Please, Enter Number: 123\n",
      "32-bit Max Number:  2147483647\n",
      "32-bit Min Number:  -2147483649\n",
      "ReverseNumbers:  321\n"
     ]
    }
   ],
   "source": [
    "def reverseInteger(number):\n",
    "    \n",
    "    maxNumber = 2**31-1\n",
    "    minNumber = -2**31-1\n",
    "    print(\"32-bit Max Number: \",maxNumber)\n",
    "    print(\"32-bit Min Number: \",minNumber)\n",
    "    \n",
    "    if minNumber <= number <= maxNumber:\n",
    "        if number < 0:\n",
    "            reverseNumbers = str(number)\n",
    "            reverseNumbers = reverseNumbers[1::]\n",
    "            reverseNumbers = reverseNumbers[::-1]\n",
    "            reverseNumbers =  \"-\" + reverseNumbers\n",
    "            print(\"Reverse Numbers: \", int(reverseNumbers))\n",
    "        elif number % 10 == 0:\n",
    "            reverseNumbers = str(number)\n",
    "            reverseNumbers = reverseNumbers[0:-1]\n",
    "            reverseNumbers = reverseNumbers[::-1]\n",
    "            print(\"Reverse Numbers: \",int(reverseNumbers))\n",
    "        else:\n",
    "            reverseNumbers = str(number)\n",
    "            reverseNumbers = reverseNumbers[::-1]\n",
    "            print(\"ReverseNumbers: \",int(reverseNumbers))\n",
    "    else:\n",
    "        print(\"Reverse Number: \",0)\n",
    "    \n",
    "if __name__ == '__main__':\n",
    "    numbers = input('Please, Enter Number: ')\n",
    "    reverseInteger(int(numbers))"
   ]
  },
  {
   "cell_type": "code",
   "execution_count": 33,
   "metadata": {},
   "outputs": [
    {
     "name": "stdout",
     "output_type": "stream",
     "text": [
      "32-bit Max Number:  2147483647\n",
      "32-bit Min Number:  -2147483649\n",
      "Reverse Numbers:  -321\n"
     ]
    }
   ],
   "source": [
    "reverseInteger(int(-123))"
   ]
  },
  {
   "cell_type": "code",
   "execution_count": 32,
   "metadata": {},
   "outputs": [
    {
     "name": "stdout",
     "output_type": "stream",
     "text": [
      "32-bit Max Number:  2147483647\n",
      "32-bit Min Number:  -2147483649\n",
      "Reverse Numbers:  21\n"
     ]
    }
   ],
   "source": [
    "reverseInteger(int(120))"
   ]
  },
  {
   "cell_type": "code",
   "execution_count": 34,
   "metadata": {},
   "outputs": [
    {
     "name": "stdout",
     "output_type": "stream",
     "text": [
      "32-bit Max Number:  2147483647\n",
      "32-bit Min Number:  -2147483649\n",
      "Reverse Number:  0\n"
     ]
    }
   ],
   "source": [
    "reverseInteger(int(2147483648))"
   ]
  }
 ],
 "metadata": {
  "kernelspec": {
   "display_name": "Python 3",
   "language": "python",
   "name": "python3"
  },
  "language_info": {
   "codemirror_mode": {
    "name": "ipython",
    "version": 3
   },
   "file_extension": ".py",
   "mimetype": "text/x-python",
   "name": "python",
   "nbconvert_exporter": "python",
   "pygments_lexer": "ipython3",
   "version": "3.6.5"
  }
 },
 "nbformat": 4,
 "nbformat_minor": 2
}

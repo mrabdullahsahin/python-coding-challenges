{
 "cells": [
  {
   "cell_type": "markdown",
   "metadata": {},
   "source": [
    "# Challenge\n",
    "\n",
    "Write a function to find the longest common prefix string amongst an array of strings.\n",
    "\n",
    "If there is no common prefix, return an empty string \"\".\n",
    "\n",
    "**Example 1:**\n",
    "\n",
    "Input: [\"flower\",\"flow\",\"flight\"]\n",
    "\n",
    "Output: \"fl\"\n",
    "\n",
    "**Example 2:**\n",
    "\n",
    "Input: [\"dog\",\"racecar\",\"car\"]\n",
    "\n",
    "Output: \"\"\n",
    "\n",
    "Explanation: There is no common prefix among the input strings.\n",
    "\n",
    "**Note:**\n",
    "\n",
    "All given inputs are in lowercase letters a-z."
   ]
  },
  {
   "cell_type": "markdown",
   "metadata": {},
   "source": [
    "### First Solution"
   ]
  },
  {
   "cell_type": "code",
   "execution_count": 21,
   "metadata": {},
   "outputs": [
    {
     "name": "stdout",
     "output_type": "stream",
     "text": [
      "Enter Something, If you wany quit, press q: flower\n",
      "Enter Something, If you wany quit, press q: flight\n",
      "Enter Something, If you wany quit, press q: flow\n",
      "Enter Something, If you wany quit, press q: q\n",
      "Longest Common Prefix: fl, Your List: ['flower', 'flight', 'flow']\n"
     ]
    }
   ],
   "source": [
    "def longestCommonPrefix(strs):\n",
    "        if len(strs) == 0:\n",
    "            return ''\n",
    "        \n",
    "        strs = sorted(strs)\n",
    "        \n",
    "        \n",
    "        if strs == []: \n",
    "            return \"\"\n",
    "        elif len(strs)==1: \n",
    "            return strs[0]\n",
    "        else:\n",
    "            LCP = \"\"\n",
    "            k = 0\n",
    "            while k < len(strs[0]):\n",
    "                j = 1\n",
    "                status = 'False'\n",
    "                while j < len(strs):\n",
    "                    if strs[0][0:k+1] == strs[j][0:k+1]: \n",
    "                        status = 'True'\n",
    "                        j = j+1\n",
    "                    else: \n",
    "                        j = len(strs)\n",
    "                        k = len(strs[0])\n",
    "                        status = 'False'\n",
    "                    \n",
    "                    if status == 'True': \n",
    "                        LCP = strs[0][0:k+1]\n",
    "                        k += 1\n",
    "            return LCP\n",
    "\n",
    "if __name__ == '__main__':\n",
    "    correct = False\n",
    "    itemList = []\n",
    "    while not correct:\n",
    "        item = input(\"Enter Something, If you wany quit, press q: \").lower()\n",
    "        if item.isalpha() == True and item != 'q':\n",
    "            itemList.append(item)\n",
    "        else:\n",
    "            correct = True\n",
    "            print(\"Longest Common Prefix: {}, Your List: {}\".format(longestCommonPrefix(itemList),itemList))"
   ]
  },
  {
   "cell_type": "code",
   "execution_count": 23,
   "metadata": {},
   "outputs": [
    {
     "name": "stdout",
     "output_type": "stream",
     "text": [
      "Longest Common Prefix: , Your List: ['dog', 'racecar', 'car']\n"
     ]
    }
   ],
   "source": [
    "print(\"Longest Common Prefix: {}, Your List: {}\".format(longestCommonPrefix([\"dog\",\"racecar\",\"car\"]),[\"dog\",\"racecar\",\"car\"]))"
   ]
  }
 ],
 "metadata": {
  "kernelspec": {
   "display_name": "Python 3",
   "language": "python",
   "name": "python3"
  },
  "language_info": {
   "codemirror_mode": {
    "name": "ipython",
    "version": 3
   },
   "file_extension": ".py",
   "mimetype": "text/x-python",
   "name": "python",
   "nbconvert_exporter": "python",
   "pygments_lexer": "ipython3",
   "version": "3.6.5"
  }
 },
 "nbformat": 4,
 "nbformat_minor": 2
}

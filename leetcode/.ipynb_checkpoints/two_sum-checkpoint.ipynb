{
 "cells": [
  {
   "cell_type": "markdown",
   "metadata": {},
   "source": [
    "# Challenge\n",
    "\n",
    "Given an array of integers, return indices of the two numbers such that they add up to a specific target.\n",
    "\n",
    "You may assume that each input would have exactly one solution, and you may not use the same element twice.\n",
    "\n",
    "website: https://leetcode.com/problems/two-sum/"
   ]
  },
  {
   "cell_type": "markdown",
   "metadata": {},
   "source": [
    "### First Solution"
   ]
  },
  {
   "cell_type": "code",
   "execution_count": 9,
   "metadata": {},
   "outputs": [
    {
     "name": "stdout",
     "output_type": "stream",
     "text": [
      "How many numbers are you going to enters?: 4\n",
      "What is your target for number: 9\n",
      "Please, Enter Number: 2\n",
      "Please, Enter Number: 7\n",
      "Please, Enter Number: 11\n",
      "Please, Enter Number: 15\n",
      "Your target: 9, List[0]+List[1] = 9\n"
     ]
    }
   ],
   "source": [
    "def twoSum(numbers,target):\n",
    "    for i in range(0,len(numbers)-1):\n",
    "        for j in range(1,len(numbers)):\n",
    "            if target == numbers[i] + numbers[j]:\n",
    "                return \"Your target: {}, List[{}]+List[{}] = {}\".format(target,i,j,target)\n",
    "\n",
    "if __name__ == '__main__':\n",
    "    \n",
    "    numberList = []\n",
    "    number = 0\n",
    "    count = 0\n",
    "    target = 0\n",
    "    \n",
    "    while True:\n",
    "        count = input('How many numbers are you going to enters?: ')\n",
    "        if count.isdigit() == True:\n",
    "            count = int(count)\n",
    "            break\n",
    "            \n",
    "    while True:\n",
    "        target = input('What is your target for number: ')\n",
    "        if target.isdigit() == True:\n",
    "            break\n",
    "    \n",
    "    for i in range(0,count):\n",
    "        number = input('Please, Enter Number: ')\n",
    "        while True:\n",
    "            if number.isdigit() == True:\n",
    "                break\n",
    "        numberList.append(int(number))\n",
    "    \n",
    "    print(twoSum(numberList,int(target)))  "
   ]
  }
 ],
 "metadata": {
  "kernelspec": {
   "display_name": "Python 3",
   "language": "python",
   "name": "python3"
  },
  "language_info": {
   "codemirror_mode": {
    "name": "ipython",
    "version": 3
   },
   "file_extension": ".py",
   "mimetype": "text/x-python",
   "name": "python",
   "nbconvert_exporter": "python",
   "pygments_lexer": "ipython3",
   "version": "3.6.5"
  }
 },
 "nbformat": 4,
 "nbformat_minor": 2
}

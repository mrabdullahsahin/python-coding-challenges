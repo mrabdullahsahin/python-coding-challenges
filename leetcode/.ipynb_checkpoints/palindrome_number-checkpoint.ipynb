{
 "cells": [
  {
   "cell_type": "markdown",
   "metadata": {},
   "source": [
    "# Challenge\n",
    "\n",
    "Determine whether an integer is a palindrome. An integer is a palindrome when it reads the same backward as forward.\n",
    "\n",
    "**Example 1:**\n",
    "\n",
    "Input: 121\n",
    "\n",
    "Output: true\n",
    "\n",
    "**Example 2:**\n",
    "\n",
    "Input: -121\n",
    "\n",
    "Output: false\n",
    "\n",
    "Explanation: From left to right, it reads -121. From right to left, it becomes 121-. Therefore it is not a palindrome.\n",
    "\n",
    "**Example 3:**\n",
    "\n",
    "Input: 10\n",
    "\n",
    "Output: false\n",
    "\n",
    "Explanation: Reads 01 from right to left. Therefore it is not a palindrome.\n",
    "\n",
    "website: https://leetcode.com/problems/palindrome-number/"
   ]
  },
  {
   "cell_type": "markdown",
   "metadata": {},
   "source": [
    "### First Solution"
   ]
  },
  {
   "cell_type": "code",
   "execution_count": 1,
   "metadata": {},
   "outputs": [
    {
     "name": "stdout",
     "output_type": "stream",
     "text": [
      "Please, Enter Number: 121\n",
      "Your number 121 is palindrome number: 121\n"
     ]
    }
   ],
   "source": [
    "def palindromeNumber(number):\n",
    "    number = str(number)\n",
    "    reverseNumber = number[::-1]\n",
    "    if reverseNumber == number:\n",
    "        print(\"Your number {} is palindrome number: {}\".format(number,reverseNumber))\n",
    "    else:\n",
    "        print(\"Your number is not palindrome number.\")\n",
    "\n",
    "if __name__ == '__main__':\n",
    "    number = int(input(\"Please, Enter Number: \"))\n",
    "    palindromeNumber(number)"
   ]
  },
  {
   "cell_type": "code",
   "execution_count": 2,
   "metadata": {},
   "outputs": [
    {
     "name": "stdout",
     "output_type": "stream",
     "text": [
      "Your number is not palindrome number.\n"
     ]
    }
   ],
   "source": [
    "palindromeNumber(-121)"
   ]
  },
  {
   "cell_type": "code",
   "execution_count": 3,
   "metadata": {},
   "outputs": [
    {
     "name": "stdout",
     "output_type": "stream",
     "text": [
      "Your number is not palindrome number.\n"
     ]
    }
   ],
   "source": [
    "palindromeNumber(10)"
   ]
  },
  {
   "cell_type": "code",
   "execution_count": 4,
   "metadata": {},
   "outputs": [
    {
     "name": "stdout",
     "output_type": "stream",
     "text": [
      "Your number 111 is palindrome number: 111\n"
     ]
    }
   ],
   "source": [
    "palindromeNumber(111)"
   ]
  }
 ],
 "metadata": {
  "kernelspec": {
   "display_name": "Python 3",
   "language": "python",
   "name": "python3"
  },
  "language_info": {
   "codemirror_mode": {
    "name": "ipython",
    "version": 3
   },
   "file_extension": ".py",
   "mimetype": "text/x-python",
   "name": "python",
   "nbconvert_exporter": "python",
   "pygments_lexer": "ipython3",
   "version": "3.6.5"
  }
 },
 "nbformat": 4,
 "nbformat_minor": 2
}

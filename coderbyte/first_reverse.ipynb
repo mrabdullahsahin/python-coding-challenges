{
 "cells": [
  {
   "cell_type": "markdown",
   "metadata": {},
   "source": [
    "## Challenge\n",
    "\n",
    "Have the function FirstReverse(str) take the str parameter being passed and return the string in reversed order. For example: if the input string is \"Hello World and Coders\" then your program should return the string sredoC dna dlroW olleH.\n",
    "\n",
    "Website: https://www.coderbyte.com/editor/guest:First%20Reverse:Python"
   ]
  },
  {
   "cell_type": "markdown",
   "metadata": {},
   "source": [
    "### First Solution"
   ]
  },
  {
   "cell_type": "code",
   "execution_count": 11,
   "metadata": {},
   "outputs": [
    {
     "name": "stdout",
     "output_type": "stream",
     "text": [
      "example\n",
      "elpmaxe\n"
     ]
    }
   ],
   "source": [
    "def FirstReverse(str):\n",
    "    return str[::-1]\n",
    "\n",
    "if __name__ == '__main__':\n",
    "    print(FirstReverse(input()))"
   ]
  },
  {
   "cell_type": "markdown",
   "metadata": {},
   "source": [
    "### Second Solution"
   ]
  },
  {
   "cell_type": "code",
   "execution_count": 20,
   "metadata": {},
   "outputs": [
    {
     "name": "stdout",
     "output_type": "stream",
     "text": [
      "example\n",
      "elpmaxe\n"
     ]
    }
   ],
   "source": [
    "def FirstReverse(str):\n",
    "    return ''.join(reversed(str))\n",
    "\n",
    "if __name__ == '__main__':\n",
    "    print(FirstReverse(input()))"
   ]
  },
  {
   "cell_type": "markdown",
   "metadata": {},
   "source": [
    "### Third Solution"
   ]
  },
  {
   "cell_type": "code",
   "execution_count": 35,
   "metadata": {},
   "outputs": [
    {
     "name": "stdout",
     "output_type": "stream",
     "text": [
      "example\n",
      "elpmaxe\n"
     ]
    }
   ],
   "source": [
    "def FirstReverse(str):\n",
    "    string1 = \"\"\n",
    "    for i in range(len(str)-1,-1,-1):\n",
    "        string1 = string1 + str[i] \n",
    "    print(string1)\n",
    "\n",
    "if __name__ == '__main__':\n",
    "    string = input()\n",
    "    FirstReverse(string)        "
   ]
  }
 ],
 "metadata": {
  "kernelspec": {
   "display_name": "Python 3",
   "language": "python",
   "name": "python3"
  },
  "language_info": {
   "codemirror_mode": {
    "name": "ipython",
    "version": 3
   },
   "file_extension": ".py",
   "mimetype": "text/x-python",
   "name": "python",
   "nbconvert_exporter": "python",
   "pygments_lexer": "ipython3",
   "version": "3.6.5"
  }
 },
 "nbformat": 4,
 "nbformat_minor": 2
}

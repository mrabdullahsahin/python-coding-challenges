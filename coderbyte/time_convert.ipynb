{
 "cells": [
  {
   "cell_type": "markdown",
   "metadata": {},
   "source": [
    "# Challenge\n",
    "\n",
    "Have the function TimeConvert(num) take the num parameter being passed and return the number of hours and minutes the parameter converts to (ie. if num = 63 then the output should be 1:3). Separate the number of hours and minutes with a colon. \n",
    "\n",
    "website: https://www.coderbyte.com/editor/guest:Time%20Convert:Python"
   ]
  },
  {
   "cell_type": "markdown",
   "metadata": {},
   "source": [
    "### First Solution"
   ]
  },
  {
   "cell_type": "code",
   "execution_count": 28,
   "metadata": {},
   "outputs": [
    {
     "name": "stdout",
     "output_type": "stream",
     "text": [
      "Enter Numbers: 126\n",
      "Time:  2:6\n"
     ]
    }
   ],
   "source": [
    "def timeConvert(num):\n",
    "    remaining = 0\n",
    "    section = 0\n",
    "    if num < 60:\n",
    "        remaining = remaining + (num%60)\n",
    "        return \"{}:{}\".format(section,remaining)\n",
    "    elif num == 60:\n",
    "        return \"{}:{}\".format(1,0)\n",
    "    else:\n",
    "        section = int((num/60))\n",
    "        remaining = int(num%60)\n",
    "        return \"{}:{}\".format(section,remaining)\n",
    "if __name__ == '__main__':\n",
    "    while True:\n",
    "        num = input(\"Enter Numbers: \")\n",
    "        if num.isdigit() == True:\n",
    "            print(\"Time: \",timeConvert(int(num)))\n",
    "            break"
   ]
  },
  {
   "cell_type": "code",
   "execution_count": 29,
   "metadata": {},
   "outputs": [
    {
     "name": "stdout",
     "output_type": "stream",
     "text": [
      "Time:  0:45\n"
     ]
    }
   ],
   "source": [
    "print(\"Time: \",timeConvert(int(45)))"
   ]
  },
  {
   "cell_type": "code",
   "execution_count": 30,
   "metadata": {},
   "outputs": [
    {
     "name": "stdout",
     "output_type": "stream",
     "text": [
      "Time:  4:0\n"
     ]
    }
   ],
   "source": [
    "print(\"Time: \",timeConvert(int(240)))"
   ]
  }
 ],
 "metadata": {
  "kernelspec": {
   "display_name": "Python 3",
   "language": "python",
   "name": "python3"
  },
  "language_info": {
   "codemirror_mode": {
    "name": "ipython",
    "version": 3
   },
   "file_extension": ".py",
   "mimetype": "text/x-python",
   "name": "python",
   "nbconvert_exporter": "python",
   "pygments_lexer": "ipython3",
   "version": "3.6.5"
  }
 },
 "nbformat": 4,
 "nbformat_minor": 2
}

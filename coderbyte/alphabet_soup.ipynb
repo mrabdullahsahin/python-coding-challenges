{
 "cells": [
  {
   "cell_type": "markdown",
   "metadata": {},
   "source": [
    "# Challenge\n",
    "\n",
    "Have the function AlphabetSoup(str) take the str string parameter being passed and return the string with the letters in alphabetical order (ie. hello becomes ehllo). Assume numbers and punctuation symbols will not be included in the string. \n",
    "\n",
    "website: https://www.coderbyte.com/editor/guest:Alphabet%20Soup:Python"
   ]
  },
  {
   "cell_type": "markdown",
   "metadata": {},
   "source": [
    "### First Solution"
   ]
  },
  {
   "cell_type": "code",
   "execution_count": 8,
   "metadata": {},
   "outputs": [
    {
     "name": "stdout",
     "output_type": "stream",
     "text": [
      "Please Enter Something: hello\n",
      "Your Enter: hello and Alphabet Soup: hleol\n"
     ]
    }
   ],
   "source": [
    "import random\n",
    "\n",
    "def alphabetSoup(inputs):\n",
    "    inputList = list(inputs)\n",
    "    alphabet = \"\"\n",
    "    correct = False\n",
    "    \n",
    "    while not correct:\n",
    "        if len(inputList) > 0:\n",
    "            randomLetter = random.choice(inputList)\n",
    "            alphabet += ''.join(randomLetter)\n",
    "            inputList.remove(randomLetter)\n",
    "        else:\n",
    "            correct = True\n",
    "    return alphabet\n",
    "\n",
    "if __name__ == '__main__':\n",
    "    correct = False\n",
    "    while not correct:\n",
    "        inputs = input(\"Please Enter Something: \")\n",
    "        if inputs.isalpha() == True:\n",
    "            print(\"Your Enter: {} and Alphabet Soup: {}\".format(inputs,alphabetSoup(inputs)))\n",
    "            correct = True"
   ]
  },
  {
   "cell_type": "code",
   "execution_count": 9,
   "metadata": {},
   "outputs": [
    {
     "name": "stdout",
     "output_type": "stream",
     "text": [
      "Your Enter: Hello and Alphabet Soup: oHlel\n"
     ]
    }
   ],
   "source": [
    "print(\"Your Enter: {} and Alphabet Soup: {}\".format(\"Hello\",alphabetSoup(\"Hello\")))"
   ]
  },
  {
   "cell_type": "code",
   "execution_count": 10,
   "metadata": {},
   "outputs": [
    {
     "name": "stdout",
     "output_type": "stream",
     "text": [
      "Your Enter: Hello World! and Alphabet Soup: HrWeldo ol!l\n"
     ]
    }
   ],
   "source": [
    "print(\"Your Enter: {} and Alphabet Soup: {}\".format(\"Hello World!\",alphabetSoup(\"Hello World!\")))"
   ]
  }
 ],
 "metadata": {
  "kernelspec": {
   "display_name": "Python 3",
   "language": "python",
   "name": "python3"
  },
  "language_info": {
   "codemirror_mode": {
    "name": "ipython",
    "version": 3
   },
   "file_extension": ".py",
   "mimetype": "text/x-python",
   "name": "python",
   "nbconvert_exporter": "python",
   "pygments_lexer": "ipython3",
   "version": "3.6.5"
  }
 },
 "nbformat": 4,
 "nbformat_minor": 2
}

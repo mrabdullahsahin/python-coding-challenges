{
 "cells": [
  {
   "cell_type": "markdown",
   "metadata": {},
   "source": [
    "# Challenge\n",
    "\n",
    "Have the function LetterCapitalize(str) take the str parameter being passed and capitalize the first letter of each word. Words will be separated by only one space. \n",
    "\n",
    "website: https://www.coderbyte.com/editor/guest:Letter%20Capitalize:Python"
   ]
  },
  {
   "cell_type": "markdown",
   "metadata": {},
   "source": [
    "### First Solution"
   ]
  },
  {
   "cell_type": "code",
   "execution_count": 4,
   "metadata": {},
   "outputs": [
    {
     "name": "stdout",
     "output_type": "stream",
     "text": [
      "Enter Something: ahmet eve gidiyor muı\n",
      "Your Enter: ahmet eve gidiyor muı and Just capitalize firs letter: Ahmet eve gidiyor muı\n"
     ]
    }
   ],
   "source": [
    "def letterCapitalize(str):\n",
    "    return str.capitalize()\n",
    "    #or\n",
    "    # return str.title()\n",
    "\n",
    "if __name__ == '__main__':\n",
    "    str = input(\"Enter Something: \")\n",
    "    print(\"Your Enter: {} and Just capitalize firs letter: {}\".format(str,letterCapitalize(str)))"
   ]
  },
  {
   "cell_type": "markdown",
   "metadata": {},
   "source": [
    "### Second Solution"
   ]
  },
  {
   "cell_type": "code",
   "execution_count": 5,
   "metadata": {},
   "outputs": [
    {
     "name": "stdout",
     "output_type": "stream",
     "text": [
      "Enter Something: ahmet eve gidiyor mu\n",
      "Your Enter: ahmet eve gidiyor mu and Just capitalize firs letter: Ahmet Eve Gidiyor Mu\n"
     ]
    }
   ],
   "source": [
    "def letterCapitalize(str):\n",
    "    return str.title()\n",
    "\n",
    "if __name__ == '__main__':\n",
    "    str = input(\"Enter Something: \")\n",
    "    print(\"Your Enter: {} and Just capitalize firs letter: {}\".format(str,letterCapitalize(str)))"
   ]
  }
 ],
 "metadata": {
  "kernelspec": {
   "display_name": "Python 3",
   "language": "python",
   "name": "python3"
  },
  "language_info": {
   "codemirror_mode": {
    "name": "ipython",
    "version": 3
   },
   "file_extension": ".py",
   "mimetype": "text/x-python",
   "name": "python",
   "nbconvert_exporter": "python",
   "pygments_lexer": "ipython3",
   "version": "3.6.5"
  }
 },
 "nbformat": 4,
 "nbformat_minor": 2
}

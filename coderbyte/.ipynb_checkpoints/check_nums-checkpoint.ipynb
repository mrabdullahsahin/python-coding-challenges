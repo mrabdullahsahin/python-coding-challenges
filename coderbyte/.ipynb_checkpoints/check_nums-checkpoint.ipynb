{
 "cells": [
  {
   "cell_type": "markdown",
   "metadata": {},
   "source": [
    "# Challenge\n",
    "\n",
    "Have the function CheckNums(num1,num2) take both parameters being passed and return the string true if num2 is greater than num1, otherwise return the string false. If the parameter values are equal to each other then return the string -1. \n",
    "\n",
    "website: https://www.coderbyte.com/editor/guest:Check%20Nums:Python"
   ]
  },
  {
   "cell_type": "markdown",
   "metadata": {},
   "source": [
    "### First Solution"
   ]
  },
  {
   "cell_type": "code",
   "execution_count": 2,
   "metadata": {},
   "outputs": [
    {
     "name": "stdout",
     "output_type": "stream",
     "text": [
      "Please, Enter Number: 1\n",
      "Please, Enter Number: 3\n",
      "Result:  True\n"
     ]
    }
   ],
   "source": [
    "def checkNums(num1,num2):\n",
    "    if num1 == num2:\n",
    "        return \"-1\"\n",
    "    elif num1 < num2:\n",
    "        return True\n",
    "    else:\n",
    "        return False\n",
    "\n",
    "if __name__ == '__main__':\n",
    "    num1 = int(input(\"Please, Enter Number: \"))\n",
    "    num2 = int(input(\"Please, Enter Number: \"))\n",
    "    \n",
    "    print(\"Result: \",checkNums(num1,num2))"
   ]
  },
  {
   "cell_type": "code",
   "execution_count": 3,
   "metadata": {},
   "outputs": [
    {
     "name": "stdout",
     "output_type": "stream",
     "text": [
      "Result:  -1\n"
     ]
    }
   ],
   "source": [
    "print(\"Result: \",checkNums(1,1))"
   ]
  },
  {
   "cell_type": "code",
   "execution_count": 4,
   "metadata": {},
   "outputs": [
    {
     "name": "stdout",
     "output_type": "stream",
     "text": [
      "Result:  False\n"
     ]
    }
   ],
   "source": [
    "print(\"Result: \",checkNums(5,2))"
   ]
  }
 ],
 "metadata": {
  "kernelspec": {
   "display_name": "Python 3",
   "language": "python",
   "name": "python3"
  },
  "language_info": {
   "codemirror_mode": {
    "name": "ipython",
    "version": 3
   },
   "file_extension": ".py",
   "mimetype": "text/x-python",
   "name": "python",
   "nbconvert_exporter": "python",
   "pygments_lexer": "ipython3",
   "version": "3.6.5"
  }
 },
 "nbformat": 4,
 "nbformat_minor": 2
}

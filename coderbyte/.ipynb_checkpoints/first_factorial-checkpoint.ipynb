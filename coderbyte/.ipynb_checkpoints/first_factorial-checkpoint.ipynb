{
 "cells": [
  {
   "cell_type": "markdown",
   "metadata": {},
   "source": [
    "# Challenge\n",
    "\n",
    "Have the function FirstFactorial(num) take the num parameter being passed and return the factorial of it. For example: if num = 4, then your program should return (4 * 3 * 2 * 1) = 24. For the test cases, the range will be between 1 and 18 and the input will always be an integer. \n",
    "\n",
    "Website: https://www.coderbyte.com/editor/guest:First%20Factorial:Python"
   ]
  },
  {
   "cell_type": "markdown",
   "metadata": {},
   "source": [
    "### First Solution"
   ]
  },
  {
   "cell_type": "code",
   "execution_count": 1,
   "metadata": {},
   "outputs": [
    {
     "name": "stdout",
     "output_type": "stream",
     "text": [
      "Please, Enter the number or If you exit press 'q': 1\n",
      "Result:  1\n",
      "Please, Enter the number or If you exit press 'q': 0\n",
      "Result:  1\n",
      "Please, Enter the number or If you exit press 'q': 4\n",
      "Result:  24\n",
      "Please, Enter the number or If you exit press 'q': 10\n",
      "Result:  3628800\n",
      "Please, Enter the number or If you exit press 'q': 3\n",
      "Result:  6\n",
      "Please, Enter the number or If you exit press 'q': 2\n",
      "Result:  2\n",
      "Please, Enter the number or If you exit press 'q': 5\n",
      "Result:  120\n",
      "Please, Enter the number or If you exit press 'q': q\n",
      "Have a nice day :)\n"
     ]
    }
   ],
   "source": [
    "def firstFactorial(num):\n",
    "    factorial = 1\n",
    "    if num == 1 or num == 0:\n",
    "        return 1\n",
    "    else:\n",
    "        for i in range(1,num+1):\n",
    "            factorial *= i\n",
    "    return factorial\n",
    "\n",
    "if __name__ == '__main__':\n",
    "    \n",
    "    while True:\n",
    "        number = input(\"Please, Enter the number or If you exit press 'q': \").lower()\n",
    "        if number.isdigit() == True:\n",
    "            print(\"Result: \",firstFactorial(int(number)))\n",
    "        elif number == 'q':\n",
    "            print('Have a nice day :)')\n",
    "            break"
   ]
  },
  {
   "cell_type": "markdown",
   "metadata": {},
   "source": [
    "### Second Solution"
   ]
  },
  {
   "cell_type": "code",
   "execution_count": 3,
   "metadata": {},
   "outputs": [
    {
     "name": "stdout",
     "output_type": "stream",
     "text": [
      "Please, Enter the number or If you exit press 'q': 1\n",
      "Result:  1\n",
      "Please, Enter the number or If you exit press 'q': 0\n",
      "Result:  1\n",
      "Please, Enter the number or If you exit press 'q': 4\n",
      "Result:  24\n",
      "Please, Enter the number or If you exit press 'q': 10\n",
      "Result:  3628800\n",
      "Please, Enter the number or If you exit press 'q': 3\n",
      "Result:  6\n",
      "Please, Enter the number or If you exit press 'q': 2\n",
      "Result:  2\n",
      "Please, Enter the number or If you exit press 'q': 5\n",
      "Result:  120\n",
      "Please, Enter the number or If you exit press 'q': Q\n",
      "Have a nice day :)\n"
     ]
    }
   ],
   "source": [
    "def firstFactorial(num):\n",
    "    if num == 1 or num == 0:\n",
    "        return 1\n",
    "    else:\n",
    "        return num * firstFactorial(num - 1)\n",
    "    \n",
    "if __name__ == '__main__':\n",
    "    while True:\n",
    "        number = input(\"Please, Enter the number or If you exit press 'q': \").lower()\n",
    "        if number.isdigit() == True:\n",
    "            print(\"Result: \",firstFactorial(int(number)))\n",
    "        elif number == 'q':\n",
    "            print('Have a nice day :)')\n",
    "            break"
   ]
  }
 ],
 "metadata": {
  "kernelspec": {
   "display_name": "Python 3",
   "language": "python",
   "name": "python3"
  },
  "language_info": {
   "codemirror_mode": {
    "name": "ipython",
    "version": 3
   },
   "file_extension": ".py",
   "mimetype": "text/x-python",
   "name": "python",
   "nbconvert_exporter": "python",
   "pygments_lexer": "ipython3",
   "version": "3.6.5"
  }
 },
 "nbformat": 4,
 "nbformat_minor": 2
}

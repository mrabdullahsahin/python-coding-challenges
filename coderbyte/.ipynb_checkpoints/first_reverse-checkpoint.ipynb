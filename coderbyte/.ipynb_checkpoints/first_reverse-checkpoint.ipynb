{
 "cells": [
  {
   "cell_type": "markdown",
   "metadata": {},
   "source": [
    "## Challenge\n",
    "\n",
    "Have the function FirstReverse(str) take the str parameter being passed and return the string in reversed order. For example: if the input string is \"Hello World and Coders\" then your program should return the string sredoC dna dlroW olleH.\n",
    "\n",
    "Website: https://www.coderbyte.com/editor/guest:First%20Reverse:Python"
   ]
  },
  {
   "cell_type": "markdown",
   "metadata": {},
   "source": [
    "### First Solution"
   ]
  },
  {
   "cell_type": "code",
   "execution_count": 2,
   "metadata": {},
   "outputs": [
    {
     "name": "stdout",
     "output_type": "stream",
     "text": [
      "python\n",
      "nohtyp\n"
     ]
    }
   ],
   "source": [
    "def FirstReverse(str):\n",
    "    return str[::-1]\n",
    "\n",
    "if __name__ == '__main__':\n",
    "    print(FirstReverse(input()))"
   ]
  },
  {
   "cell_type": "markdown",
   "metadata": {},
   "source": [
    "### Second Solution"
   ]
  },
  {
   "cell_type": "code",
   "execution_count": 3,
   "metadata": {},
   "outputs": [
    {
     "name": "stdout",
     "output_type": "stream",
     "text": [
      "python\n",
      "nohtyp\n"
     ]
    }
   ],
   "source": [
    "def FirstReverse(str):\n",
    "    return ''.join(reversed(str))\n",
    "\n",
    "if __name__ == '__main__':\n",
    "    print(FirstReverse(input()))"
   ]
  },
  {
   "cell_type": "markdown",
   "metadata": {},
   "source": [
    "### Third Solution"
   ]
  },
  {
   "cell_type": "code",
   "execution_count": 4,
   "metadata": {},
   "outputs": [
    {
     "name": "stdout",
     "output_type": "stream",
     "text": [
      "python\n",
      "nohtyp\n"
     ]
    }
   ],
   "source": [
    "def FirstReverse(str):\n",
    "    string1 = \"\"\n",
    "    for i in range(len(str)-1,-1,-1):\n",
    "        string1 = string1 + str[i] \n",
    "    print(string1)\n",
    "\n",
    "if __name__ == '__main__':\n",
    "    string = input()\n",
    "    FirstReverse(string)        "
   ]
  },
  {
   "cell_type": "markdown",
   "metadata": {},
   "source": [
    "### Fourth Solution(with Stack)"
   ]
  },
  {
   "cell_type": "code",
   "execution_count": 5,
   "metadata": {},
   "outputs": [
    {
     "name": "stdout",
     "output_type": "stream",
     "text": [
      "abdullah:  halludba\n",
      "python:  nohtyp\n",
      "machine learning:  gninrael enihcam\n"
     ]
    }
   ],
   "source": [
    "# stack metod\n",
    "def createStack():\n",
    "    stack = []\n",
    "    return stack\n",
    "\n",
    "# push method\n",
    "def push(stack,item):\n",
    "    stack.append(item)\n",
    "    \n",
    "# pop method\n",
    "def pop(stack):\n",
    "    return stack.pop()\n",
    "\n",
    "# find reverse as using stack\n",
    "def reverse(string):\n",
    "    \n",
    "    n = len(string)\n",
    "    \n",
    "    stack = createStack()\n",
    "    \n",
    "    for i in range(n):\n",
    "        push(stack,string[i])  # \"a\",\"b\",\"d\",\"u\",\"l\",\"l\",\"a\",\"h\" stack = [\"a\",\"b\",\"d\",\"u\",\"l\",\"l\",\"a\",\"h\"] \n",
    "     \n",
    "    new_string = \"\"\n",
    "    \n",
    "    # pop\n",
    "    for i in range(n):\n",
    "        new_string += pop(stack) # \"h\", \"a\",...  # new_string = \"halludba\"\n",
    "    \n",
    "    return new_string\n",
    "\n",
    "if __name__ == '__main__':\n",
    "    print(\"abdullah: \",reverse(\"abdullah\"))\n",
    "    print(\"python: \",reverse(\"python\"))\n",
    "    print(\"machine learning: \",reverse(\"machine learning\"))"
   ]
  }
 ],
 "metadata": {
  "kernelspec": {
   "display_name": "Python 3",
   "language": "python",
   "name": "python3"
  },
  "language_info": {
   "codemirror_mode": {
    "name": "ipython",
    "version": 3
   },
   "file_extension": ".py",
   "mimetype": "text/x-python",
   "name": "python",
   "nbconvert_exporter": "python",
   "pygments_lexer": "ipython3",
   "version": "3.6.5"
  }
 },
 "nbformat": 4,
 "nbformat_minor": 2
}

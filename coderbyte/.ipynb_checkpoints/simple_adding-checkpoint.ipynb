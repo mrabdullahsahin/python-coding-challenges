{
 "cells": [
  {
   "cell_type": "markdown",
   "metadata": {},
   "source": [
    "# Challenge\n",
    "\n",
    "Have the function SimpleAdding(num) add up all the numbers from 1 to num. For example: if the input is 4 then your program should return 10 because 1 + 2 + 3 + 4 = 10. For the test cases, the parameter num will be any number from 1 to 1000. \n",
    "\n",
    "website: https://www.coderbyte.com/editor/guest:Simple%20Adding:Python"
   ]
  },
  {
   "cell_type": "markdown",
   "metadata": {},
   "source": [
    "### First Solution"
   ]
  },
  {
   "cell_type": "code",
   "execution_count": 5,
   "metadata": {},
   "outputs": [
    {
     "name": "stdout",
     "output_type": "stream",
     "text": [
      "Please, Enter Something: 4\n",
      "Your Enter 4 and Your Result 10\n"
     ]
    }
   ],
   "source": [
    "def simpleAdding(num):\n",
    "    sum = 0\n",
    "    for i in range(1,num+1):\n",
    "        sum += i\n",
    "    \n",
    "    return sum\n",
    "\n",
    "if __name__ == '__main__':\n",
    "    while True:\n",
    "        number = input('Please, Enter Something: ')\n",
    "        if number.isdigit() == True:\n",
    "            break\n",
    "    print(\"Your Enter {} and Your Result {}\".format(number,simpleAdding(int(number))))"
   ]
  },
  {
   "cell_type": "code",
   "execution_count": 7,
   "metadata": {},
   "outputs": [
    {
     "name": "stdout",
     "output_type": "stream",
     "text": [
      "Your Enter 12 and Your Result 78\n"
     ]
    }
   ],
   "source": [
    "print(\"Your Enter {} and Your Result {}\".format(12,simpleAdding(int(12))))"
   ]
  },
  {
   "cell_type": "code",
   "execution_count": 8,
   "metadata": {},
   "outputs": [
    {
     "name": "stdout",
     "output_type": "stream",
     "text": [
      "Your Enter 140 and Your Result 9870\n"
     ]
    }
   ],
   "source": [
    "print(\"Your Enter {} and Your Result {}\".format(140,simpleAdding(int(140))))"
   ]
  }
 ],
 "metadata": {
  "kernelspec": {
   "display_name": "Python 3",
   "language": "python",
   "name": "python3"
  },
  "language_info": {
   "codemirror_mode": {
    "name": "ipython",
    "version": 3
   },
   "file_extension": ".py",
   "mimetype": "text/x-python",
   "name": "python",
   "nbconvert_exporter": "python",
   "pygments_lexer": "ipython3",
   "version": "3.6.5"
  }
 },
 "nbformat": 4,
 "nbformat_minor": 2
}

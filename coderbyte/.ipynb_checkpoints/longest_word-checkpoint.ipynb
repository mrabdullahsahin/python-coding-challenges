{
 "cells": [
  {
   "cell_type": "markdown",
   "metadata": {},
   "source": [
    "# Challenge\n",
    "\n",
    "Have the function LongestWord(sen) take the sen parameter being passed and return the largest word in the string. If there are two or more words that are the same length, return the first word from the string with that length. Ignore punctuation and assume sen will not be empty. \n",
    "\n",
    "website: https://www.coderbyte.com/editor/guest:Longest%20Word:Python"
   ]
  },
  {
   "cell_type": "markdown",
   "metadata": {},
   "source": [
    "### First Solution"
   ]
  },
  {
   "cell_type": "code",
   "execution_count": 3,
   "metadata": {},
   "outputs": [
    {
     "name": "stdout",
     "output_type": "stream",
     "text": [
      "Please, Enter Something: I'm a software engineer\n",
      "Sample: i'm a software engineer => Longest Word: software\n"
     ]
    }
   ],
   "source": [
    "def longestWord(sen):\n",
    "    \n",
    "    number = 0\n",
    "    sentence = ''\n",
    "    sentences = []\n",
    "    \n",
    "    for i in range(0,len(sen)):\n",
    "        if sen[i].isalpha() == True:\n",
    "            sentence += sen[i]\n",
    "        else:\n",
    "            sentences.append(sentence)\n",
    "            sentence = ''\n",
    "            \n",
    "    sentences.append(sentence)\n",
    "    \n",
    "    for j in range(1,len(sentences)):\n",
    "        if len(sentences[number]) < len(sentences[j]):\n",
    "            number = j\n",
    "            \n",
    "    if sentences[number].isalpha() == True:\n",
    "        return sentences[number]\n",
    "    else:\n",
    "        return \"Your sentence has not word.\"\n",
    "\n",
    "if __name__ == '__main__':\n",
    "    text = input('Please, Enter Something: ').lower()\n",
    "    print(\"Sample: {} => Longest Word: {}\".format(text,longestWord(text)))"
   ]
  },
  {
   "cell_type": "code",
   "execution_count": 4,
   "metadata": {},
   "outputs": [
    {
     "name": "stdout",
     "output_type": "stream",
     "text": [
      "Sample: Machine Learning => Longest Word: Learning\n"
     ]
    }
   ],
   "source": [
    "print(\"Sample: {} => Longest Word: {}\".format(\"Machine Learning\",longestWord(\"Machine Learning\")))"
   ]
  },
  {
   "cell_type": "code",
   "execution_count": 5,
   "metadata": {},
   "outputs": [
    {
     "name": "stdout",
     "output_type": "stream",
     "text": [
      "Sample: Deep Learning => Longest Word: Learning\n"
     ]
    }
   ],
   "source": [
    "print(\"Sample: {} => Longest Word: {}\".format(\"Deep Learning\",longestWord(\"Deep Learning\")))"
   ]
  }
 ],
 "metadata": {
  "kernelspec": {
   "display_name": "Python 3",
   "language": "python",
   "name": "python3"
  },
  "language_info": {
   "codemirror_mode": {
    "name": "ipython",
    "version": 3
   },
   "file_extension": ".py",
   "mimetype": "text/x-python",
   "name": "python",
   "nbconvert_exporter": "python",
   "pygments_lexer": "ipython3",
   "version": "3.6.5"
  }
 },
 "nbformat": 4,
 "nbformat_minor": 2
}

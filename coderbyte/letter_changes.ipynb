{
 "cells": [
  {
   "cell_type": "markdown",
   "metadata": {},
   "source": [
    "# Challenge\n",
    "\n",
    "Have the function LetterChanges(str) take the str parameter being passed and modify it using the following algorithm. Replace every letter in the string with the letter following it in the alphabet (ie. c becomes d, z becomes a). Then capitalize every vowel in this new string (a, e, i, o, u) and finally return this modified string. \n",
    "\n",
    "website: https://www.coderbyte.com/editor/guest:Letter%20Changes:Python"
   ]
  },
  {
   "cell_type": "markdown",
   "metadata": {},
   "source": [
    "### First Solution"
   ]
  },
  {
   "cell_type": "code",
   "execution_count": 21,
   "metadata": {},
   "outputs": [
    {
     "name": "stdout",
     "output_type": "stream",
     "text": [
      "Please, Enter Something: Turkey!*_@123\n",
      "i:t and j:u\n",
      "i:u and j:v\n",
      "i:r and j:s\n",
      "i:k and j:l\n",
      "i:e and j:f\n",
      "i:y and j:z\n",
      "Letter Changes: uvslfz!*_@123\n"
     ]
    }
   ],
   "source": [
    "import string\n",
    "\n",
    "def letterChanges(str):\n",
    "\n",
    "    alphabet = list(string.ascii_lowercase)\n",
    "    letters = list(str)\n",
    "    \n",
    "    for i in range(0,len(letters)):\n",
    "        if letters[i].isdigit() == False:\n",
    "            for j in range(0,len(alphabet)):\n",
    "                if letters[i] == alphabet[j]:\n",
    "                    print(\"i:{} and j:{}\".format(letters[i],alphabet[j+1]))\n",
    "                    letters[i] = alphabet[j+1]\n",
    "                    break\n",
    "    return letters\n",
    "\n",
    "if __name__ == '__main__':\n",
    "    \n",
    "    text = input('Please, Enter Something: ').lower()\n",
    "    print(\"Letter Changes: \",*letterChanges(text),sep=\"\")"
   ]
  },
  {
   "cell_type": "code",
   "execution_count": 22,
   "metadata": {},
   "outputs": [
    {
     "name": "stdout",
     "output_type": "stream",
     "text": [
      "i:a and j:b\n",
      "i:b and j:c\n",
      "i:d and j:e\n",
      "i:u and j:v\n",
      "i:l and j:m\n",
      "i:l and j:m\n",
      "i:a and j:b\n",
      "i:h and j:i\n",
      "Letter Changes: bcevmmbi*1\n"
     ]
    }
   ],
   "source": [
    "print(\"Letter Changes: \",*letterChanges(\"abdullah*1\"),sep=\"\")"
   ]
  }
 ],
 "metadata": {
  "kernelspec": {
   "display_name": "Python 3",
   "language": "python",
   "name": "python3"
  },
  "language_info": {
   "codemirror_mode": {
    "name": "ipython",
    "version": 3
   },
   "file_extension": ".py",
   "mimetype": "text/x-python",
   "name": "python",
   "nbconvert_exporter": "python",
   "pygments_lexer": "ipython3",
   "version": "3.6.5"
  }
 },
 "nbformat": 4,
 "nbformat_minor": 2
}
